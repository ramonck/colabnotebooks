{
  "cells": [
    {
      "cell_type": "markdown",
      "metadata": {
        "id": "view-in-github",
        "colab_type": "text"
      },
      "source": [
        "<a href=\"https://colab.research.google.com/github/ramonck/colabnotebooks/blob/main/DeepPonies_Text_To_Speech.ipynb\" target=\"_parent\"><img src=\"https://colab.research.google.com/assets/colab-badge.svg\" alt=\"Open In Colab\"/></a>"
      ]
    },
    {
      "cell_type": "code",
      "source": [
        "pip install tts"
      ],
      "metadata": {
        "colab": {
          "base_uri": "https://localhost:8080/"
        },
        "id": "sVSRuVRuiWc8",
        "outputId": "b06cb20a-44f3-4e23-d184-42b23359a489"
      },
      "execution_count": 2,
      "outputs": [
        {
          "output_type": "stream",
          "name": "stdout",
          "text": [
            "Collecting tts\n",
            "  Using cached TTS-0.16.5-cp310-cp310-manylinux1_x86_64.whl (809 kB)\n",
            "\u001b[31mERROR: Operation cancelled by user\u001b[0m\u001b[31m\n",
            "\u001b[0m"
          ]
        }
      ]
    },
    {
      "cell_type": "markdown",
      "metadata": {
        "id": "Ozp0CT08owZ2"
      },
      "source": [
        "# DeepPonies State of Development\n",
        "\n",
        "This is the current state of the development of DeepPonies, a text-to-speech pipeline that runs on mobile devices. This notebook will be updated a bit more often than the app and is more experimental, if you are interested in the app, you can download it from here:\n",
        "\n",
        "https://play.google.com/store/apps/details?id=com.app.voice_conversion\n",
        "\n",
        "### How to use:\n",
        "\n",
        "Simply select a speaker, type in the text you want to convert and then click on the play icon in the upper left corner to start voice synthesis.\n",
        "\n",
        "You can download the audio by clicking on the vertical three points next to the\n",
        "displayed audio widget.\n",
        "\n",
        "If you use the synthesized voices of this notebook in your project, citing/naming is appreciated, but not required :)\n"
      ]
    },
    {
      "cell_type": "code",
      "execution_count": null,
      "metadata": {
        "cellView": "form",
        "colab": {
          "base_uri": "https://localhost:8080/",
          "height": 1000
        },
        "id": "vQCA50dao0Mt",
        "outputId": "3df63342-b17f-409c-d6f5-0077f61709bf"
      },
      "outputs": [
        {
          "output_type": "stream",
          "name": "stdout",
          "text": [
            "\n",
            "Starting initial download, this can take a minute and will only be required once ...\n",
            "Cloning into 'deep-ponies-frontend'...\n",
            "remote: Enumerating objects: 101, done.\u001b[K\n",
            "remote: Counting objects: 100% (33/33), done.\u001b[K\n",
            "remote: Compressing objects: 100% (5/5), done.\u001b[K\n",
            "remote: Total 101 (delta 29), reused 28 (delta 28), pack-reused 68\u001b[K\n",
            "Receiving objects: 100% (101/101), 1.19 MiB | 14.50 MiB/s, done.\n",
            "Resolving deltas: 100% (52/52), done.\n",
            "/content/deep-ponies-frontend\n",
            "Looking in indexes: https://pypi.org/simple, https://us-python.pkg.dev/colab-wheels/public/simple/\n",
            "\u001b[31mERROR: Could not find a version that satisfies the requirement torch==1.10.0 (from versions: 1.11.0, 1.12.0, 1.12.1, 1.13.0, 1.13.1, 2.0.0, 2.0.1)\u001b[0m\u001b[31m\n",
            "\u001b[0m\u001b[31mERROR: No matching distribution found for torch==1.10.0\u001b[0m\u001b[31m\n",
            "\u001b[0mLooking in indexes: https://pypi.org/simple, https://us-python.pkg.dev/colab-wheels/public/simple/\n",
            "Requirement already satisfied: gdown in /usr/local/lib/python3.10/dist-packages (4.6.6)\n",
            "Collecting gdown\n",
            "  Downloading gdown-4.7.1-py3-none-any.whl (15 kB)\n",
            "Requirement already satisfied: filelock in /usr/local/lib/python3.10/dist-packages (from gdown) (3.12.0)\n",
            "Requirement already satisfied: requests[socks] in /usr/local/lib/python3.10/dist-packages (from gdown) (2.27.1)\n",
            "Requirement already satisfied: six in /usr/local/lib/python3.10/dist-packages (from gdown) (1.16.0)\n",
            "Requirement already satisfied: tqdm in /usr/local/lib/python3.10/dist-packages (from gdown) (4.65.0)\n",
            "Requirement already satisfied: beautifulsoup4 in /usr/local/lib/python3.10/dist-packages (from gdown) (4.11.2)\n",
            "Requirement already satisfied: soupsieve>1.2 in /usr/local/lib/python3.10/dist-packages (from beautifulsoup4->gdown) (2.4.1)\n",
            "Requirement already satisfied: urllib3<1.27,>=1.21.1 in /usr/local/lib/python3.10/dist-packages (from requests[socks]->gdown) (1.26.15)\n",
            "Requirement already satisfied: certifi>=2017.4.17 in /usr/local/lib/python3.10/dist-packages (from requests[socks]->gdown) (2022.12.7)\n",
            "Requirement already satisfied: charset-normalizer~=2.0.0 in /usr/local/lib/python3.10/dist-packages (from requests[socks]->gdown) (2.0.12)\n",
            "Requirement already satisfied: idna<4,>=2.5 in /usr/local/lib/python3.10/dist-packages (from requests[socks]->gdown) (3.4)\n",
            "Requirement already satisfied: PySocks!=1.5.7,>=1.5.6 in /usr/local/lib/python3.10/dist-packages (from requests[socks]->gdown) (1.7.1)\n",
            "Installing collected packages: gdown\n",
            "  Attempting uninstall: gdown\n",
            "    Found existing installation: gdown 4.6.6\n",
            "    Uninstalling gdown-4.6.6:\n",
            "      Successfully uninstalled gdown-4.6.6\n",
            "Successfully installed gdown-4.7.1\n"
          ]
        },
        {
          "output_type": "error",
          "ename": "ModuleNotFoundError",
          "evalue": "ignored",
          "traceback": [
            "\u001b[0;31m---------------------------------------------------------------------------\u001b[0m",
            "\u001b[0;31mNameError\u001b[0m                                 Traceback (most recent call last)",
            "\u001b[0;32m<ipython-input-1-ed0d96a899f1>\u001b[0m in \u001b[0;36msynth_audio\u001b[0;34m()\u001b[0m\n\u001b[1;32m     11\u001b[0m   \u001b[0;32mtry\u001b[0m\u001b[0;34m:\u001b[0m\u001b[0;34m\u001b[0m\u001b[0;34m\u001b[0m\u001b[0m\n\u001b[0;32m---> 12\u001b[0;31m       \u001b[0mtts\u001b[0m\u001b[0;34m\u001b[0m\u001b[0;34m\u001b[0m\u001b[0m\n\u001b[0m\u001b[1;32m     13\u001b[0m   \u001b[0;32mexcept\u001b[0m \u001b[0mNameError\u001b[0m\u001b[0;34m:\u001b[0m\u001b[0;34m\u001b[0m\u001b[0;34m\u001b[0m\u001b[0m\n",
            "\u001b[0;31mNameError\u001b[0m: name 'tts' is not defined",
            "\nDuring handling of the above exception, another exception occurred:\n",
            "\u001b[0;31mModuleNotFoundError\u001b[0m                       Traceback (most recent call last)",
            "\u001b[0;32m<ipython-input-1-ed0d96a899f1>\u001b[0m in \u001b[0;36m<cell line: 35>\u001b[0;34m()\u001b[0m\n\u001b[1;32m     33\u001b[0m \u001b[0mtext\u001b[0m \u001b[0;34m=\u001b[0m \u001b[0;34m\"Dear Users,   Welcome to ChatGPT - your go-to resource for all things Power Apps and Power Automate related! If you're looking for guidance on how to get the most out of ChatGPT, we've got you covered. Here are some useful prompts to help you get the help you need:     Start with a specific question or problem: When you log in to ChatGPT, be sure to have a specific question or problem in mind. This will help us guide you in the right direction and get you answers faster.     Provide context: If you're having trouble with a particular feature or function in Power Apps or Power Automate, provide as much context as possible. Tell us where you are in the app or workflow, what you're trying to do, and what you've tried already.     Be clear and concise: We understand that you may be frustrated or overwhelmed with a particular issue, but it's important to be clear and concise in your messaging. This will help us understand your problem more quickly and offer more effective solutions.     Take advantage of resources: ChatGPT has a wealth of resources available to help you with Power Apps and Power Automate. From knowledge base articles to community forums, take the time to explore these resources and learn as much as you can.     Follow up: After we provide a solution or answer, make sure you follow up with us to confirm that the solution worked and your problem is resolved. This will help us make improvements to our service an...\n\u001b[1;32m     34\u001b[0m \u001b[0;34m\u001b[0m\u001b[0m\n\u001b[0;32m---> 35\u001b[0;31m \u001b[0msynth_audio\u001b[0m\u001b[0;34m(\u001b[0m\u001b[0;34m)\u001b[0m\u001b[0;34m\u001b[0m\u001b[0;34m\u001b[0m\u001b[0m\n\u001b[0m",
            "\u001b[0;32m<ipython-input-1-ed0d96a899f1>\u001b[0m in \u001b[0;36msynth_audio\u001b[0;34m()\u001b[0m\n\u001b[1;32m     18\u001b[0m       \u001b[0mget_ipython\u001b[0m\u001b[0;34m(\u001b[0m\u001b[0;34m)\u001b[0m\u001b[0;34m.\u001b[0m\u001b[0msystem\u001b[0m\u001b[0;34m(\u001b[0m\u001b[0;34m'pip install -r requirements.txt'\u001b[0m\u001b[0;34m)\u001b[0m\u001b[0;34m\u001b[0m\u001b[0;34m\u001b[0m\u001b[0m\n\u001b[1;32m     19\u001b[0m       \u001b[0mget_ipython\u001b[0m\u001b[0;34m(\u001b[0m\u001b[0;34m)\u001b[0m\u001b[0;34m.\u001b[0m\u001b[0msystem\u001b[0m\u001b[0;34m(\u001b[0m\u001b[0;34m'pip install -U --no-cache-dir gdown --pre'\u001b[0m\u001b[0;34m)\u001b[0m\u001b[0;34m\u001b[0m\u001b[0;34m\u001b[0m\u001b[0m\n\u001b[0;32m---> 20\u001b[0;31m       \u001b[0;32mfrom\u001b[0m \u001b[0mapi\u001b[0m \u001b[0;32mimport\u001b[0m \u001b[0mdownload_dependencies\u001b[0m\u001b[0;34m,\u001b[0m \u001b[0mDeepPoniesTTS\u001b[0m\u001b[0;34m\u001b[0m\u001b[0;34m\u001b[0m\u001b[0m\n\u001b[0m\u001b[1;32m     21\u001b[0m       \u001b[0mdownload_dependencies\u001b[0m\u001b[0;34m(\u001b[0m\u001b[0;34m)\u001b[0m\u001b[0;34m\u001b[0m\u001b[0;34m\u001b[0m\u001b[0m\n\u001b[1;32m     22\u001b[0m       \u001b[0mtts\u001b[0m \u001b[0;34m=\u001b[0m \u001b[0mDeepPoniesTTS\u001b[0m\u001b[0;34m(\u001b[0m\u001b[0;34m)\u001b[0m\u001b[0;34m\u001b[0m\u001b[0;34m\u001b[0m\u001b[0m\n",
            "\u001b[0;32m/content/deep-ponies-frontend/api.py\u001b[0m in \u001b[0;36m<module>\u001b[0;34m\u001b[0m\n\u001b[1;32m      1\u001b[0m \u001b[0;32mimport\u001b[0m \u001b[0mtorch\u001b[0m\u001b[0;34m\u001b[0m\u001b[0;34m\u001b[0m\u001b[0m\n\u001b[0;32m----> 2\u001b[0;31m \u001b[0;32mfrom\u001b[0m \u001b[0mtransformers\u001b[0m \u001b[0;32mimport\u001b[0m \u001b[0mAutoTokenizer\u001b[0m\u001b[0;34m\u001b[0m\u001b[0;34m\u001b[0m\u001b[0m\n\u001b[0m\u001b[1;32m      3\u001b[0m \u001b[0;32mfrom\u001b[0m \u001b[0mpathlib\u001b[0m \u001b[0;32mimport\u001b[0m \u001b[0mPath\u001b[0m\u001b[0;34m\u001b[0m\u001b[0;34m\u001b[0m\u001b[0m\n\u001b[1;32m      4\u001b[0m \u001b[0;32mimport\u001b[0m \u001b[0mjson\u001b[0m\u001b[0;34m\u001b[0m\u001b[0;34m\u001b[0m\u001b[0m\n\u001b[1;32m      5\u001b[0m \u001b[0;32mimport\u001b[0m \u001b[0mnltk\u001b[0m\u001b[0;34m\u001b[0m\u001b[0;34m\u001b[0m\u001b[0m\n",
            "\u001b[0;31mModuleNotFoundError\u001b[0m: No module named 'transformers'",
            "",
            "\u001b[0;31m---------------------------------------------------------------------------\u001b[0;32m\nNOTE: If your import is failing due to a missing package, you can\nmanually install dependencies using either !pip or !apt.\n\nTo view examples of installing some common dependencies, click the\n\"Open Examples\" button below.\n\u001b[0;31m---------------------------------------------------------------------------\u001b[0m\n"
          ],
          "errorDetails": {
            "actions": [
              {
                "action": "open_url",
                "actionText": "Open Examples",
                "url": "/notebooks/snippets/importing_libraries.ipynb"
              }
            ]
          }
        }
      ],
      "source": [
        "import ipywidgets as widgets\n",
        "import IPython\n",
        "import json\n",
        "from IPython.core.display import display\n",
        "\n",
        "global speaker, talking_speed, text, button_clear, output_clear, button, output\n",
        "\n",
        "\n",
        "def synth_audio():\n",
        "  global tts\n",
        "  try:\n",
        "      tts\n",
        "  except NameError:\n",
        "      print()\n",
        "      print(\"Starting initial download, this can take a minute and will only be required once ...\")\n",
        "      !git clone https://github.com/dunky11/deep-ponies-frontend\n",
        "      %cd /content/deep-ponies-frontend\n",
        "      !pip install -r requirements.txt\n",
        "      !pip install -U --no-cache-dir gdown --pre\n",
        "      from api import download_dependencies, DeepPoniesTTS\n",
        "      download_dependencies()\n",
        "      tts = DeepPoniesTTS()\n",
        "\n",
        "  print()\n",
        "  print(\"Converting audio ...\")\n",
        "  audio = tts.synthesize(text, speaker, 1 / talking_speed)\n",
        "  IPython.display.clear_output()\n",
        "  print()\n",
        "  display(IPython.display.Audio(audio, rate=22050))\n",
        "\n",
        "speaker = 'Discord' #@param ['Adachi Tohru', 'Apple Bloom', 'Applejack', 'Barack Obama', 'Bart Simpson', 'Billie Eilish', 'Celestia', 'Chie Satonaka', 'Cozy Glow', 'Demoman', 'Discord', 'Donald Trump', 'Engineer', 'Fluttershy', 'Franklin', 'GLaDOS', 'Granny Smith', 'Heavy', 'Homer Simpson', 'Joe Biden', 'Joe Rogan', 'Kanji Tatsumi', 'Kanye West', 'Kim Kardashian', 'Kratos', 'Luna', 'Medic', 'Michael', 'Nameless Hero', 'Nanako Dojima', 'Naoto Shirogane', 'Pinkie Pie', 'Rainbow Dash', 'Rarity', 'Rise Kujikawa', 'Ryotaro Dojima', 'Scootaloo', 'Scout', 'Sniper', 'Soldier', 'Spike', 'SpongeBob', 'Spy', 'Starlight', 'Sunset Shimmer', 'Sweetie Belle', 'Teddie', 'Trevor', 'Trixie', 'Twilight Sparkle', 'Yosuke Hanamura', 'Yukiko Amagi']\n",
        "talking_speed = 1 #@param {type:\"slider\", min: 0.1, max:2.0, step:0.05}\n",
        "text = \"Dear Users,   Welcome to ChatGPT - your go-to resource for all things Power Apps and Power Automate related! If you're looking for guidance on how to get the most out of ChatGPT, we've got you covered. Here are some useful prompts to help you get the help you need:     Start with a specific question or problem: When you log in to ChatGPT, be sure to have a specific question or problem in mind. This will help us guide you in the right direction and get you answers faster.     Provide context: If you're having trouble with a particular feature or function in Power Apps or Power Automate, provide as much context as possible. Tell us where you are in the app or workflow, what you're trying to do, and what you've tried already.     Be clear and concise: We understand that you may be frustrated or overwhelmed with a particular issue, but it's important to be clear and concise in your messaging. This will help us understand your problem more quickly and offer more effective solutions.     Take advantage of resources: ChatGPT has a wealth of resources available to help you with Power Apps and Power Automate. From knowledge base articles to community forums, take the time to explore these resources and learn as much as you can.     Follow up: After we provide a solution or answer, make sure you follow up with us to confirm that the solution worked and your problem is resolved. This will help us make improvements to our service and provide better support in the future.     We hope these prompts have been helpful in guiding you to use ChatGPT to get help in Power Apps and Power Automate. Remember, we're here to help, so don't hesitate to reach out if you have any questions or need assistance.   Best regards,   The ChatGPT Team.\" #@param {type:\"string\"}\n",
        "\n",
        "synth_audio()"
      ]
    },
    {
      "cell_type": "code",
      "source": [],
      "metadata": {
        "id": "tGNF_VfekDUe"
      },
      "execution_count": null,
      "outputs": []
    }
  ],
  "metadata": {
    "colab": {
      "provenance": [],
      "include_colab_link": true
    },
    "kernelspec": {
      "display_name": "Python 3",
      "name": "python3"
    },
    "language_info": {
      "name": "python"
    }
  },
  "nbformat": 4,
  "nbformat_minor": 0
}