{
  "nbformat": 4,
  "nbformat_minor": 0,
  "metadata": {
    "colab": {
      "provenance": [],
      "private_outputs": true,
      "include_colab_link": true
    },
    "kernelspec": {
      "name": "python3",
      "display_name": "Python 3"
    },
    "accelerator": "GPU"
  },
  "cells": [
    {
      "cell_type": "markdown",
      "metadata": {
        "id": "view-in-github",
        "colab_type": "text"
      },
      "source": [
        "<a href=\"https://colab.research.google.com/github/ramonck/colabnotebooks/blob/main/ncm.ipynb\" target=\"_parent\"><img src=\"https://colab.research.google.com/assets/colab-badge.svg\" alt=\"Open In Colab\"/></a>"
      ]
    },
    {
      "cell_type": "markdown",
      "source": [
        "library https://suno-ai.notion.site/8b8e8749ed514b0cbf3f699013548683?v=bc67cff786b04b50b3ceb756fd05f68c"
      ],
      "metadata": {
        "id": "jyteYPcEq6JQ"
      }
    },
    {
      "cell_type": "code",
      "source": [
        "pip install bark"
      ],
      "metadata": {
        "id": "H7x-8bhrqd8B"
      },
      "execution_count": null,
      "outputs": []
    },
    {
      "cell_type": "code",
      "source": [
        "from bark import SAMPLE_RATE, generate_audio, preload_models\n",
        "from IPython.display import Audio\n",
        "import numpy as np\n",
        "\n",
        "# download and load all models\n",
        "preload_models()"
      ],
      "metadata": {
        "id": "seDZcvr4rHZ_"
      },
      "execution_count": null,
      "outputs": []
    },
    {
      "cell_type": "code",
      "source": [
        "# generate audio from text\n",
        "script = \"\"\"The upcoming Power BI event is generating a lot of buzz, as special SECRET guests are set to take the stage and present\n",
        "      Power BI examples that will help attendees create outstanding dashboards. The event promises to be an exciting\n",
        "      opportunity for attendees to learn from the experts, with invaluable insights and guidance on how to elevate their\n",
        "       data visualization game. The guests will share their favorite tips, best practices, and hacks to help attendees\n",
        "       create compelling and impactful reporting.\n",
        "     join us\"\"\"\n",
        "\n",
        "sentences = script.split(\"\\n\")\n",
        "print(sentences)\n",
        "silence = np.zeros(int(0.25 * SAMPLE_RATE))\n",
        "SPEAKER = \"v2/en_speaker_6\"\n",
        "pieces = []\n",
        "for sentence in sentences:\n",
        "  audio_array = generate_audio(sentence, history_prompt=SPEAKER)\n",
        "  pieces += [audio_array, silence.copy()]\n",
        "\n",
        "Audio(np.concatenate(pieces), rate=SAMPLE_RATE)\n",
        "\n",
        "\n",
        "# play text in notebook\n",
        "#Audio(audio_array, rate=SAMPLE_RATE)"
      ],
      "metadata": {
        "id": "OOHSTGZfqZqR"
      },
      "execution_count": null,
      "outputs": []
    }
  ]
}
